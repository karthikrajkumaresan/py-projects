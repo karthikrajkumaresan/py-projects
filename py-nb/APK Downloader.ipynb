{
 "cells": [
  {
   "cell_type": "code",
   "execution_count": 1,
   "metadata": {},
   "outputs": [
    {
     "name": "stdout",
     "output_type": "stream",
     "text": [
      "hello\n",
      "1\n"
     ]
    },
    {
     "data": {
      "text/plain": [
       "'https://apkpure.com/search?q=hello'"
      ]
     },
     "execution_count": 1,
     "metadata": {},
     "output_type": "execute_result"
    }
   ],
   "source": [
    "import urllib\n",
    "from bs4 import BeautifulSoup\n",
    "import requests\n",
    "import progressbar\n",
    "\n",
    "search_string=input()\n",
    "number = input()\n",
    "root_url = \"https://apkpure.com\"\n",
    "url = f\"{root_url}/search?q={search_string}\"\n",
    "url"
   ]
  },
  {
   "cell_type": "code",
   "execution_count": 2,
   "metadata": {},
   "outputs": [],
   "source": [
    "response = requests.get(url)\n",
    "html=response.text\n",
    "soup = BeautifulSoup(html, \"html.parser\")\n",
    "soup_apk_list = soup.find(id=\"search-res\").find_all(class_=\"search-title\")"
   ]
  },
  {
   "cell_type": "code",
   "execution_count": 3,
   "metadata": {},
   "outputs": [
    {
     "name": "stdout",
     "output_type": "stream",
     "text": [
      "Hello Neighbor APK    /hello-neighbor/com.tinybuildgames.helloneighbor\n",
      "Hello APK    /hello/net.helloapp.hello\n",
      "Hello Cup APK    /hello-cup/ble.co.madlife.www\n",
      "Hello Kitty Nail Salon APK    /hello-kitty-nail-salon/com.budgestudios.HelloKittyNailSalon\n",
      "Helo - Daily Updates of Status, Videos & Trends APK    /helo-daily-updates-of-status-videos-trends/app.buzz.share\n",
      "Maps Hello Neighbor for MCPE ★ APK    /maps-hello-neighbor-for-mcpe-%E2%98%85/minecraft.helloneighbor.map.niki\n",
      "Hello Yo – Free Voice Chat Rooms APK    /hello-yo-%E2%80%93-free-voice-chat-rooms/sg.bigo.hellotalk\n",
      "Hello English: Learn English APK    /hello-english-learn-english/com.CultureAlley.japanese.english\n",
      "HOLLA: Live Random Video Chat, Meet New People APK    /holla-live-random-video-chat-meet-new-people/com.exutech.chacha\n",
      "Hello Darkness My Old Friend Button APK    /hello-darkness-my-old-friend-button/old.hello.my.darkness.friend.button\n",
      "hello.com APK    /hello-com/com.hello.application\n",
      "Adele Hello Song APK    /adele-hello-song/com.music.mora.AdeleHello\n",
      "Hello Kitty Lunchbox APK    /hello-kitty-lunchbox/com.budgestudios.HelloKittyLunchBox\n"
     ]
    }
   ],
   "source": [
    "dict = {}\n",
    "for element in soup_apk_list:\n",
    "    title = element.contents[0].get('title')\n",
    "    path = element.contents[0].get('href')\n",
    "    print(title,\"  \",path)\n",
    "    dict[title]=path"
   ]
  },
  {
   "cell_type": "code",
   "execution_count": 15,
   "metadata": {},
   "outputs": [],
   "source": [
    "def download_apk(app_name, download_link):\n",
    "    print(\"{+} downloading %s\" %(app_name))\n",
    "    output_file = app_name + \".apk\"\n",
    "    r = requests.get(url=download_link, stream=True)\n",
    "    with open(output_file, 'wb') as f:\n",
    "        total_length = int(r.headers.get('content-length'))\n",
    "        readsofar = 0\n",
    "        for chunk in r.iter_content(chunk_size=1024):\n",
    "            if chunk:\n",
    "                readsofar += len(chunk)\n",
    "                bar.update(readsofar)\n",
    "                f.write(chunk)\n",
    "                f.flush()\n",
    "        bar.finish()\n",
    "    print(\"{+} done. file saved to %s\" %(output_file))"
   ]
  },
  {
   "cell_type": "code",
   "execution_count": 28,
   "metadata": {},
   "outputs": [
    {
     "name": "stdout",
     "output_type": "stream",
     "text": [
      "{+} downloading Hello Neighbor APK\n"
     ]
    },
    {
     "ename": "AttributeError",
     "evalue": "module 'progressbar' has no attribute 'widgets'",
     "output_type": "error",
     "traceback": [
      "\u001b[0;31m---------------------------------------------------------------------------\u001b[0m",
      "\u001b[0;31mAttributeError\u001b[0m                            Traceback (most recent call last)",
      "\u001b[0;32m<ipython-input-28-b7f83cb695ad>\u001b[0m in \u001b[0;36m<module>\u001b[0;34m\u001b[0m\n\u001b[1;32m     13\u001b[0m     \u001b[0;32mfor\u001b[0m \u001b[0mlink\u001b[0m \u001b[0;32min\u001b[0m \u001b[0mparse2\u001b[0m\u001b[0;34m.\u001b[0m\u001b[0mfind_all\u001b[0m\u001b[0;34m(\u001b[0m\u001b[0;34m\"a\"\u001b[0m\u001b[0;34m,\u001b[0m\u001b[0mid\u001b[0m\u001b[0;34m=\u001b[0m\u001b[0;34m\"download_link\"\u001b[0m\u001b[0;34m)\u001b[0m\u001b[0;34m:\u001b[0m\u001b[0;34m\u001b[0m\u001b[0;34m\u001b[0m\u001b[0m\n\u001b[1;32m     14\u001b[0m         \u001b[0mdownload_link\u001b[0m \u001b[0;34m=\u001b[0m \u001b[0mlink\u001b[0m\u001b[0;34m[\u001b[0m\u001b[0;34m\"href\"\u001b[0m\u001b[0;34m]\u001b[0m\u001b[0;34m\u001b[0m\u001b[0;34m\u001b[0m\u001b[0m\n\u001b[0;32m---> 15\u001b[0;31m         \u001b[0mdownload_apk\u001b[0m\u001b[0;34m(\u001b[0m\u001b[0mkey\u001b[0m\u001b[0;34m,\u001b[0m \u001b[0mdownload_link\u001b[0m\u001b[0;34m)\u001b[0m\u001b[0;34m\u001b[0m\u001b[0;34m\u001b[0m\u001b[0m\n\u001b[0m\u001b[1;32m     16\u001b[0m     \u001b[0mi\u001b[0m \u001b[0;34m=\u001b[0m \u001b[0mi\u001b[0m\u001b[0;34m+\u001b[0m\u001b[0;36m1\u001b[0m\u001b[0;34m\u001b[0m\u001b[0;34m\u001b[0m\u001b[0m\n",
      "\u001b[0;32m<ipython-input-15-f0c8cf9b1d59>\u001b[0m in \u001b[0;36mdownload_apk\u001b[0;34m(app_name, download_link)\u001b[0m\n\u001b[1;32m      5\u001b[0m     \u001b[0;32mwith\u001b[0m \u001b[0mopen\u001b[0m\u001b[0;34m(\u001b[0m\u001b[0moutput_file\u001b[0m\u001b[0;34m,\u001b[0m \u001b[0;34m'wb'\u001b[0m\u001b[0;34m)\u001b[0m \u001b[0;32mas\u001b[0m \u001b[0mf\u001b[0m\u001b[0;34m:\u001b[0m\u001b[0;34m\u001b[0m\u001b[0;34m\u001b[0m\u001b[0m\n\u001b[1;32m      6\u001b[0m         \u001b[0mtotal_length\u001b[0m \u001b[0;34m=\u001b[0m \u001b[0mint\u001b[0m\u001b[0;34m(\u001b[0m\u001b[0mr\u001b[0m\u001b[0;34m.\u001b[0m\u001b[0mheaders\u001b[0m\u001b[0;34m.\u001b[0m\u001b[0mget\u001b[0m\u001b[0;34m(\u001b[0m\u001b[0;34m'content-length'\u001b[0m\u001b[0;34m)\u001b[0m\u001b[0;34m)\u001b[0m\u001b[0;34m\u001b[0m\u001b[0;34m\u001b[0m\u001b[0m\n\u001b[0;32m----> 7\u001b[0;31m         \u001b[0mbar\u001b[0m \u001b[0;34m=\u001b[0m \u001b[0mmake_progress_bar\u001b[0m\u001b[0;34m(\u001b[0m\u001b[0;34m)\u001b[0m\u001b[0;34m\u001b[0m\u001b[0;34m\u001b[0m\u001b[0m\n\u001b[0m\u001b[1;32m      8\u001b[0m         \u001b[0mbar\u001b[0m\u001b[0;34m.\u001b[0m\u001b[0mstart\u001b[0m\u001b[0;34m(\u001b[0m\u001b[0mtotal_length\u001b[0m\u001b[0;34m)\u001b[0m\u001b[0;34m\u001b[0m\u001b[0;34m\u001b[0m\u001b[0m\n\u001b[1;32m      9\u001b[0m         \u001b[0mreadsofar\u001b[0m \u001b[0;34m=\u001b[0m \u001b[0;36m0\u001b[0m\u001b[0;34m\u001b[0m\u001b[0;34m\u001b[0m\u001b[0m\n",
      "\u001b[0;32m<ipython-input-15-f0c8cf9b1d59>\u001b[0m in \u001b[0;36mmake_progress_bar\u001b[0;34m()\u001b[0m\n\u001b[1;32m     18\u001b[0m \u001b[0;34m\u001b[0m\u001b[0m\n\u001b[1;32m     19\u001b[0m \u001b[0;32mdef\u001b[0m \u001b[0mmake_progress_bar\u001b[0m\u001b[0;34m(\u001b[0m\u001b[0;34m)\u001b[0m\u001b[0;34m:\u001b[0m\u001b[0;34m\u001b[0m\u001b[0;34m\u001b[0m\u001b[0m\n\u001b[0;32m---> 20\u001b[0;31m     return progressbar.widgets.SimpleProgress(\n\u001b[0m\u001b[1;32m     21\u001b[0m         \u001b[0mredirect_stdout\u001b[0m\u001b[0;34m=\u001b[0m\u001b[0;32mTrue\u001b[0m\u001b[0;34m,\u001b[0m\u001b[0;34m\u001b[0m\u001b[0;34m\u001b[0m\u001b[0m\n\u001b[1;32m     22\u001b[0m         \u001b[0mredirect_stderr\u001b[0m\u001b[0;34m=\u001b[0m\u001b[0;32mTrue\u001b[0m\u001b[0;34m,\u001b[0m\u001b[0;34m\u001b[0m\u001b[0;34m\u001b[0m\u001b[0m\n",
      "\u001b[0;31mAttributeError\u001b[0m: module 'progressbar' has no attribute 'widgets'"
     ]
    }
   ],
   "source": [
    "i = 1\n",
    "for key,value in dict.items():\n",
    "    if i>int(number):\n",
    "        break\n",
    "    download_url = f\"{root_url}{value}\"\n",
    "    down_text = requests.get(download_url).text\n",
    "    down_soup = BeautifulSoup(down_text, \"html.parser\")\n",
    "    down_class = down_soup.find(class_=\"da\")\n",
    "    down_link = down_class.get('href')\n",
    "    app_url = f'{root_url}{down_link}'\n",
    "    html2 = requests.get(app_url)\n",
    "    parse2 = BeautifulSoup(html2.text)\n",
    "    for link in parse2.find_all(\"a\",id=\"download_link\"): \n",
    "        download_link = link[\"href\"]\n",
    "        download_apk(key, download_link)    \n",
    "    i = i+1"
   ]
  },
  {
   "cell_type": "code",
   "execution_count": null,
   "metadata": {},
   "outputs": [],
   "source": []
  }
 ],
 "metadata": {
  "kernelspec": {
   "display_name": "Python 3",
   "language": "python",
   "name": "python3"
  },
  "language_info": {
   "codemirror_mode": {
    "name": "ipython",
    "version": 3
   },
   "file_extension": ".py",
   "mimetype": "text/x-python",
   "name": "python",
   "nbconvert_exporter": "python",
   "pygments_lexer": "ipython3",
   "version": "3.7.3"
  }
 },
 "nbformat": 4,
 "nbformat_minor": 2
}
